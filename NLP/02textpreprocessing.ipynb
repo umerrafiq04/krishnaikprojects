{
 "cells": [
  {
   "cell_type": "markdown",
   "id": "e59289d1",
   "metadata": {},
   "source": [
    "15/04/2025"
   ]
  },
  {
   "cell_type": "markdown",
   "id": "c3951443",
   "metadata": {},
   "source": [
    "🌱 What is Stemming?\n",
    "Stemming is the process of cutting off prefixes or suffixes from words to get their root form (called a stem).\n",
    "\n",
    "📌 The goal is to reduce different forms of a word to the same base word eg:"
   ]
  },
  {
   "cell_type": "markdown",
   "id": "9662464e",
   "metadata": {},
   "source": [
    "Original Word | Stemmed Word\n",
    "playing | play\n",
    "played | play\n",
    "plays | play\n",
    "happily | happi\n",
    "running | run"
   ]
  },
  {
   "cell_type": "markdown",
   "id": "feea06f8",
   "metadata": {},
   "source": [
    "* Notice how \"happily\" becomes \"happi\" — it's not a real word, but it's a stem.\n",
    "* Stemming doesn’t care about correct grammar — it just cuts things off quickly."
   ]
  },
  {
   "cell_type": "markdown",
   "id": "a2b76eb4",
   "metadata": {},
   "source": [
    "1) PorterStemmer"
   ]
  },
  {
   "cell_type": "code",
   "execution_count": 3,
   "id": "47ed3414",
   "metadata": {},
   "outputs": [
    {
     "name": "stderr",
     "output_type": "stream",
     "text": [
      "[nltk_data] Downloading package punkt_tab to\n",
      "[nltk_data]     C:\\Users\\user\\AppData\\Roaming\\nltk_data...\n",
      "[nltk_data]   Package punkt_tab is already up-to-date!\n"
     ]
    },
    {
     "data": {
      "text/plain": [
       "True"
      ]
     },
     "execution_count": 3,
     "metadata": {},
     "output_type": "execute_result"
    }
   ],
   "source": [
    "import nltk\n",
    "nltk.download('punkt_tab')"
   ]
  },
  {
   "cell_type": "code",
   "execution_count": null,
   "id": "c18193fa",
   "metadata": {},
   "outputs": [
    {
     "name": "stdout",
     "output_type": "stream",
     "text": [
      "eating---->eat\n",
      "eaten---->eaten\n",
      "eats---->eat\n",
      "written---->written\n",
      "writes---->write\n",
      "writing---->write\n",
      "programming---->program\n",
      "programs---->program\n",
      "history---->histori\n",
      "finally---->final\n",
      "finalized---->final\n"
     ]
    }
   ],
   "source": [
    "from nltk.stem import PorterStemmer\n",
    "words=[\"eating\",\"eaten\",\"eats\",\"written\",\"writes\",\"writing\",\"programming\",\"programs\",\"history\",\"finally\",\"finalized\"]\n",
    "stemming = PorterStemmer()\n",
    "for word in words:\n",
    "    print(word+\"---->\" +stemming.stem(word))"
   ]
  },
  {
   "cell_type": "markdown",
   "id": "81e04e71",
   "metadata": {},
   "source": [
    "stemming doesnt ensure meaningful stems eg history to histori"
   ]
  },
  {
   "cell_type": "markdown",
   "id": "60fb2e59",
   "metadata": {},
   "source": [
    "2) RegexpStemmer:\n",
    "* RegexpStemmer is a stemmer that removes patterns (like suffixes) from words using regular expressions (regex).\n",
    "* Unlike other stemmers (like Porter), you define your own rules using regex."
   ]
  },
  {
   "cell_type": "code",
   "execution_count": 12,
   "id": "623e4687",
   "metadata": {},
   "outputs": [],
   "source": [
    "from nltk.stem import RegexpStemmer\n",
    "reg_Stemmer=RegexpStemmer(\"ing$| s$| e$|able$\",min=4)"
   ]
  },
  {
   "cell_type": "code",
   "execution_count": 13,
   "id": "a155813d",
   "metadata": {},
   "outputs": [
    {
     "data": {
      "text/plain": [
       "'eat'"
      ]
     },
     "execution_count": 13,
     "metadata": {},
     "output_type": "execute_result"
    }
   ],
   "source": [
    "reg_Stemmer.stem(\"eating\")"
   ]
  },
  {
   "cell_type": "markdown",
   "id": "f0a7e818",
   "metadata": {},
   "source": [
    "3) snowball stemmer\n",
    "* The Snowball Stemmer (also known as the Porter2 Stemmer) is an improved version of the original Porter Stemmer.\n",
    "* It is more accurate, efficient, and supports multiple languages.\n",
    "\n",
    "* It’s built into NLTK and is commonly used for English text."
   ]
  },
  {
   "cell_type": "code",
   "execution_count": 14,
   "id": "94ff0dc3",
   "metadata": {},
   "outputs": [
    {
     "name": "stdout",
     "output_type": "stream",
     "text": [
      "eating---->eat\n",
      "eaten---->eaten\n",
      "eats---->eat\n",
      "written---->written\n",
      "writes---->write\n",
      "writing---->write\n",
      "programming---->program\n",
      "programs---->program\n",
      "history---->histori\n",
      "finally---->final\n",
      "finalized---->final\n"
     ]
    }
   ],
   "source": [
    "from nltk.stem import SnowballStemmer\n",
    "Snowballstemmer=SnowballStemmer(\"english\")\n",
    "for word in words:\n",
    "    print(word+\"---->\"+Snowballstemmer.stem(word))"
   ]
  },
  {
   "cell_type": "code",
   "execution_count": 15,
   "id": "db1c779d",
   "metadata": {},
   "outputs": [
    {
     "data": {
      "text/plain": [
       "('fairli', 'sportingli')"
      ]
     },
     "execution_count": 15,
     "metadata": {},
     "output_type": "execute_result"
    }
   ],
   "source": [
    "stemming.stem(\"fairly\"),stemming.stem(\"sportingly\")"
   ]
  },
  {
   "cell_type": "code",
   "execution_count": 17,
   "id": "d5f6f944",
   "metadata": {},
   "outputs": [
    {
     "data": {
      "text/plain": [
       "('fair', 'sport')"
      ]
     },
     "execution_count": 17,
     "metadata": {},
     "output_type": "execute_result"
    }
   ],
   "source": [
    "Snowballstemmer.stem(\"fairly\"),Snowballstemmer.stem(\"sportingly\")"
   ]
  },
  {
   "cell_type": "markdown",
   "id": "114c21f0",
   "metadata": {},
   "source": []
  },
  {
   "cell_type": "code",
   "execution_count": null,
   "id": "d9687970",
   "metadata": {},
   "outputs": [],
   "source": []
  },
  {
   "cell_type": "markdown",
   "id": "0b2e9bc3",
   "metadata": {},
   "source": []
  },
  {
   "cell_type": "code",
   "execution_count": null,
   "id": "8b10fbee",
   "metadata": {},
   "outputs": [],
   "source": []
  },
  {
   "cell_type": "markdown",
   "id": "c118e140",
   "metadata": {},
   "source": [
    "* 🌿 What is Lemmatization?\n",
    "* Lemmatization is the process of reducing a word to its base or dictionary form called the lemma — and the result is * * always a real word.\n",
    "\n",
    "* Unlike stemming, lemmatization uses grammar rules and a vocabulary to find the correct form of the word."
   ]
  },
  {
   "cell_type": "code",
   "execution_count": null,
   "id": "8c871abf",
   "metadata": {},
   "outputs": [],
   "source": []
  },
  {
   "cell_type": "code",
   "execution_count": null,
   "id": "7b89191e",
   "metadata": {},
   "outputs": [],
   "source": []
  },
  {
   "cell_type": "code",
   "execution_count": null,
   "id": "5864dd01",
   "metadata": {},
   "outputs": [],
   "source": []
  }
 ],
 "metadata": {
  "kernelspec": {
   "display_name": "Python 3",
   "language": "python",
   "name": "python3"
  },
  "language_info": {
   "codemirror_mode": {
    "name": "ipython",
    "version": 3
   },
   "file_extension": ".py",
   "mimetype": "text/x-python",
   "name": "python",
   "nbconvert_exporter": "python",
   "pygments_lexer": "ipython3",
   "version": "3.12.4"
  }
 },
 "nbformat": 4,
 "nbformat_minor": 5
}
