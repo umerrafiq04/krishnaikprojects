{
 "cells": [
  {
   "cell_type": "markdown",
   "id": "f812ebca",
   "metadata": {},
   "source": [
    "* Parts of Speech (POS) Tagging is the process of labeling each word in a sentence with its grammatical category, like * * * noun, verb, adjective, etc.\n",
    "\n",
    "* It helps machines understand the role of each word in a sentence.\n",
    "* \"Umer is learning NLP\"\n",
    "* [('Umer', 'NNP'), ('is', 'VBZ'), ('learning', 'VBG'), ('NLP', 'NNP')]\n",
    "* Word | POS Tag | Meaning\n",
    "* Umer | NNP | Proper noun\n",
    "* is | VBZ | Verb (3rd person)\n",
    "* learning | VBG | Verb (gerund)\n",
    "* NLP | NNP | Proper noun"
   ]
  },
  {
   "cell_type": "code",
   "execution_count": 1,
   "id": "b9dcbc04",
   "metadata": {},
   "outputs": [],
   "source": [
    "corpus=\"I have three visions for India. In 3000 years of our history, people from all over the world have come and invaded us, captured our lands, conquered our minds. From Alexander onwards, the Greeks, the Turks, the Mughals, the Portuguese, the British, the French, the Dutch — all of them came and looted us, took over what was ours. Yet we have not done this to any other nation. We have not conquered anyone. We have not grabbed their land, their culture, their history and tried to enforce our way of life on them. Why? Because we respect the freedom of others.\"\n"
   ]
  },
  {
   "cell_type": "code",
   "execution_count": 2,
   "id": "d7a7aede",
   "metadata": {},
   "outputs": [
    {
     "data": {
      "text/plain": [
       "['I have three visions for India.',\n",
       " 'In 3000 years of our history, people from all over the world have come and invaded us, captured our lands, conquered our minds.',\n",
       " 'From Alexander onwards, the Greeks, the Turks, the Mughals, the Portuguese, the British, the French, the Dutch — all of them came and looted us, took over what was ours.',\n",
       " 'Yet we have not done this to any other nation.',\n",
       " 'We have not conquered anyone.',\n",
       " 'We have not grabbed their land, their culture, their history and tried to enforce our way of life on them.',\n",
       " 'Why?',\n",
       " 'Because we respect the freedom of others.']"
      ]
     },
     "execution_count": 2,
     "metadata": {},
     "output_type": "execute_result"
    }
   ],
   "source": [
    "import nltk\n",
    "from nltk.tokenize import sent_tokenize,word_tokenize\n",
    "sentences=sent_tokenize(corpus)\n",
    "sentences"
   ]
  },
  {
   "cell_type": "code",
   "execution_count": 3,
   "id": "d7f47543",
   "metadata": {},
   "outputs": [],
   "source": [
    "# nltk.download('averaged_perceptron_tagger_eng')"
   ]
  },
  {
   "cell_type": "code",
   "execution_count": 4,
   "id": "d04747ef",
   "metadata": {},
   "outputs": [
    {
     "name": "stdout",
     "output_type": "stream",
     "text": [
      "[('I', 'PRP'), ('three', 'CD'), ('visions', 'NNS'), ('India', 'NNP'), ('.', '.')]\n",
      "[('In', 'IN'), ('3000', 'CD'), ('years', 'NNS'), ('history', 'NN'), (',', ','), ('people', 'NNS'), ('world', 'NN'), ('come', 'VBP'), ('invaded', 'VBN'), ('us', 'PRP'), (',', ','), ('captured', 'VBD'), ('lands', 'NNS'), (',', ','), ('conquered', 'VBD'), ('minds', 'NNS'), ('.', '.')]\n",
      "[('From', 'IN'), ('Alexander', 'NNP'), ('onwards', 'NNS'), (',', ','), ('Greeks', 'NNP'), (',', ','), ('Turks', 'NNP'), (',', ','), ('Mughals', 'NNP'), (',', ','), ('Portuguese', 'NNP'), (',', ','), ('British', 'NNP'), (',', ','), ('French', 'NNP'), (',', ','), ('Dutch', 'NNP'), ('—', 'NNP'), ('came', 'VBD'), ('looted', 'VBD'), ('us', 'PRP'), (',', ','), ('took', 'VBD'), ('.', '.')]\n",
      "[('Yet', 'RB'), ('done', 'VBN'), ('nation', 'NN'), ('.', '.')]\n",
      "[('We', 'PRP'), ('conquered', 'VBD'), ('anyone', 'NN'), ('.', '.')]\n",
      "[('We', 'PRP'), ('grabbed', 'VBD'), ('land', 'NN'), (',', ','), ('culture', 'NN'), (',', ','), ('history', 'NN'), ('tried', 'VBD'), ('enforce', 'JJ'), ('way', 'NN'), ('life', 'NN'), ('.', '.')]\n",
      "[('Why', 'WRB'), ('?', '.')]\n",
      "[('Because', 'IN'), ('respect', 'NN'), ('freedom', 'NN'), ('others', 'NNS'), ('.', '.')]\n"
     ]
    }
   ],
   "source": [
    "from nltk.corpus import stopwords\n",
    "for i in range(len(sentences)):\n",
    "    words=word_tokenize(sentences[i])\n",
    "    words=[word for word in words if word not in set(stopwords.words(\"english\"))]\n",
    "    poss_tag=nltk.pos_tag(words)\n",
    "    print(poss_tag)"
   ]
  },
  {
   "cell_type": "code",
   "execution_count": 9,
   "id": "cbe87c25",
   "metadata": {},
   "outputs": [
    {
     "data": {
      "text/plain": [
       "[('taj', 'NN'), ('mahal', 'RBS'), ('beutiful', 'JJ'), ('monument', 'NN')]"
      ]
     },
     "execution_count": 9,
     "metadata": {},
     "output_type": "execute_result"
    }
   ],
   "source": [
    "eg=\"taj mahal is a beutiful monument\"\n",
    "words=nltk.word_tokenize(eg)\n",
    "words=[word for word in words if word not in set(stopwords.words(\"english\"))]\n",
    "nltk.pos_tag(words)\n",
    "\n"
   ]
  },
  {
   "cell_type": "markdown",
   "id": "21d6e609",
   "metadata": {},
   "source": [
    "shortcut"
   ]
  },
  {
   "cell_type": "code",
   "execution_count": 13,
   "id": "7000bc52",
   "metadata": {},
   "outputs": [
    {
     "data": {
      "text/plain": [
       "[('hey', 'NN'), ('its', 'PRP$')]"
      ]
     },
     "execution_count": 13,
     "metadata": {},
     "output_type": "execute_result"
    }
   ],
   "source": [
    "nltk.pos_tag(\"hey its\".split())"
   ]
  },
  {
   "cell_type": "code",
   "execution_count": 14,
   "id": "3034d812",
   "metadata": {},
   "outputs": [
    {
     "name": "stdout",
     "output_type": "stream",
     "text": [
      "['taj', 'mahal', 'is', 'a', 'beutiful', 'monument']\n",
      "['taj', 'mahal', 'is', 'a', 'beutiful', 'monument']\n"
     ]
    }
   ],
   "source": [
    "eg=\"taj mahal is a beutiful monument\"\n",
    "y=nltk.word_tokenize(eg)\n",
    "x=eg.split()\n",
    "print(x)\n",
    "print(y)"
   ]
  },
  {
   "cell_type": "code",
   "execution_count": null,
   "id": "65948018",
   "metadata": {},
   "outputs": [],
   "source": []
  }
 ],
 "metadata": {
  "kernelspec": {
   "display_name": "Python 3",
   "language": "python",
   "name": "python3"
  },
  "language_info": {
   "codemirror_mode": {
    "name": "ipython",
    "version": 3
   },
   "file_extension": ".py",
   "mimetype": "text/x-python",
   "name": "python",
   "nbconvert_exporter": "python",
   "pygments_lexer": "ipython3",
   "version": "3.12.4"
  }
 },
 "nbformat": 4,
 "nbformat_minor": 5
}
